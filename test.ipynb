{
 "cells": [
  {
   "cell_type": "code",
   "id": "initial_id",
   "metadata": {
    "collapsed": true,
    "ExecuteTime": {
     "end_time": "2025-02-26T08:28:45.690126Z",
     "start_time": "2025-02-26T08:28:14.619075Z"
    }
   },
   "source": [
    "import torch\n",
    "import torch.nn as nn\n",
    "from torch.nn import functional as F\n",
    "\n",
    "#hyperparameters\n",
    "batch_size = 32\n",
    "block_size = 8\n",
    "max_iters = 5000\n",
    "eval_interval = 500\n",
    "learning_rate = 1e-3 #decrease the learning because self attention cant tolerate very high learning rate\n",
    "device = 'cuda' if torch.cuda.is_available() else 'cpu'\n",
    "eval_iters = 200\n",
    "n_embd = 32\n",
    "#-------\n",
    "\n",
    "torch.manual_seed(1337)\n",
    "# read it in to inspect it\n",
    "with open('Data\\\\input.txt', 'r', encoding='utf-8') as f:\n",
    "    text = f.read()\n",
    "\n",
    "chars = sorted(list(set(text)))\n",
    "vocab_size = len(chars)\n",
    "\n",
    "# create a mapping from characters to integers\n",
    "stoi = { ch:i for i,ch in enumerate(chars) }\n",
    "itos = { i:ch for i,ch in enumerate(chars) }\n",
    "encode = lambda s: [stoi[c] for c in s] # encoder: take a string, output a list of integers\n",
    "decode = lambda l: ''.join([itos[i] for i in l]) # decoder: take a list of integers, output a string\n",
    "\n",
    "#create train and test splits\n",
    "data = torch.tensor(encode(text), dtype=torch.long)\n",
    "n = int(0.9*len(data)) # first 90% is train, rest val\n",
    "train_data = data[:n]\n",
    "val_data = data[n:]\n",
    "\n",
    "def get_batch(split):\n",
    "    # generate a small batch of data of inputs x and targets y\n",
    "    data = train_data if split == 'train' else val_data\n",
    "    ix = torch.randint(len(data) - block_size, (batch_size,))\n",
    "    xappender = []\n",
    "    yappender = []\n",
    "    for i in ix:\n",
    "        xappender.append(data[i:i+block_size])\n",
    "    x = torch.stack(xappender)\n",
    "    for i in ix:\n",
    "        yappender.append(data[i+1:i+block_size+1])\n",
    "    y = torch.stack(yappender)\n",
    "    x,y = x.to(device), y.to(device)\n",
    "\n",
    "\n",
    "    return x, y\n",
    "\n",
    "@torch.no_grad()\n",
    "def estimate_loss():\n",
    "    out= {}\n",
    "    model.eval()\n",
    "    for split in ['train', 'val']:\n",
    "        losses = torch.zeros(eval_iters)\n",
    "        for k in range(eval_iters):\n",
    "            X,Y = get_batch(split)\n",
    "            logits, loss = model(X,Y)\n",
    "            losses[k] = loss.item()\n",
    "        out[split] = losses.mean()\n",
    "    model.train()\n",
    "    return out\n",
    "\n",
    "class Head(nn.Module):\n",
    "    \"\"\"\n",
    "    one head of self attention\n",
    "    \"\"\"\n",
    "    def __init__(self, head_size):\n",
    "        super().__init__()\n",
    "        self.key = nn.Linear(n_embd, head_size, bias=False)\n",
    "        self.query = nn.Linear(n_embd, head_size, bias = False)\n",
    "        self.value = nn.Linear(n_embd, head_size, bias = False)\n",
    "        self.register_buffer('tril', torch.tril(torch.ones(block_size,block_size)))\n",
    "\n",
    "    def forward(self, x):\n",
    "        B,T,C = x.shape\n",
    "        k = self.key(x) #shape of B,T,head_size # head_size is also referred to as the channel dimension in the comments below\n",
    "        q = self.query(x) #shape of B,T,head_size\n",
    "        v = self.value(x) #shape of B,T,head_size\n",
    "\n",
    "        #compute attention scores\n",
    "        wei = q @ k.transpose(-1,-2) * C**-0.5 # (B,T,C) @ (B,C,T) -> (B,T,T) these will be the attention affinities\n",
    "        wei = wei.masked_fill(self.tril[:T, :T]==0, float('-inf'))\n",
    "        wei = F.softmax(wei, dim=-1) #B,T,T #the softmax will give the attention score\n",
    "        # perform weighted aggregation\n",
    "        out = wei @ v #wei: B,T,T and v: B,T,head_size -> B,T,head_size\n",
    "        return out\n",
    "\n",
    "\n",
    "class BigramLanguageModel(nn.Module):\n",
    "    #we are going to modify this to incldue the attention head\n",
    "    def __init__(self):\n",
    "        #no need to pass the vocab size arouond as it is already defined uptop\n",
    "        super().__init__()\n",
    "        # each token directly reads off the logits for the next token from a lookup table\n",
    "        self.token_embedding_table = nn.Embedding(vocab_size, n_embd)\n",
    "        #positional emebdinng Notice how the second dimension is the same as the token embedding dimension\n",
    "        #for the positional encoding we just index it with arange tensor, and uptill the context we have and less than block size always during forward and inference.\n",
    "        #see below for more details on positional embedding.\n",
    "        self.position_embedding_table = nn.Embedding(block_size, n_embd)\n",
    "        self.sa_head = Head(n_embd) #for now the head_size will be just as n_embd\n",
    "\n",
    "        #this is now new linear layer that will apply soon after the token emmbeddings.\n",
    "        self.lm_head = nn.Linear(n_embd, vocab_size)\n",
    "\n",
    "    def forward(self, idx, targets=None):\n",
    "        B,T = idx.shape\n",
    "\n",
    "        # idx and targets are both (B,T) tensor of integers\n",
    "        #this won't be called logits anymore since we are increasing the complexity.\n",
    "        #instead these will just be the token embeddings.\n",
    "        tok_emb = self.token_embedding_table(idx) # (B,T,C)\n",
    "        #this will right now just create the same block_size by n_embd tensor. It just indexes the position embedding table with 0-7 indices, and it will just\n",
    "        #pluck out the entire position embedding table, or uptill T if we are doing inference with incremental context size.\n",
    "        pos_emb = self.position_embedding_table(torch.arange(T, device=device))\n",
    "        x = tok_emb + pos_emb #B,T,C\n",
    "        x = self.sa_head(x) #apply one head of self attention B,T,C\n",
    "\n",
    "        #the below linear layer is basically a matrix multiplaction\n",
    "        #the (4,8,32) @ (32,65) produces a tensor of (4,8,65)\n",
    "        logits = self.lm_head(x) # (B,T,Vocab_Size)\n",
    "\n",
    "        if targets is None:\n",
    "            loss = None\n",
    "        else:\n",
    "            B, T, C = logits.shape\n",
    "            logits = logits.view(B*T, C)\n",
    "            targets = targets.view(B*T)\n",
    "            loss = F.cross_entropy(logits, targets)\n",
    "\n",
    "        return logits, loss\n",
    "\n",
    "    def generate(self, idx, max_new_tokens):\n",
    "        # idx is (B, T) array of indices in the current context\n",
    "        for _ in range(max_new_tokens):\n",
    "            #one more thing we need to add because we have added positional encoding is to crop the context other wise\n",
    "            # the positional encoding table will run out of scope, as the positional encoding is defined as\n",
    "            #self.position_embedding_table = nn.Embedding(block_size, n_embd) so we need to crop the input\n",
    "            # doing -block_size as the indexer for the column dimension is okay even if the idx tensor is say of size (8,3) and our block size is of 9 for eg, and if index it like this\n",
    "            #idx[:,-9:] this means that i want all the rows and i want all the columns starting from 9 places to the end of the tensor. But it will still work if we only have 3 columns so far, and\n",
    "            # we dont have to worry about going out of bounds with negative indexing, it will just pick out the elements that are available.\n",
    "            idx = idx[:, -block_size:]\n",
    "            # get the predictions\n",
    "            logits, loss = self(idx)\n",
    "            # focus only on the last time step\n",
    "            logits = logits[:, -1, :] # becomes (B, C)\n",
    "            # apply softmax to get probabilities\n",
    "            probs = F.softmax(logits, dim=-1) # (B, C)\n",
    "            # sample from the distribution\n",
    "            idx_next = torch.multinomial(probs, num_samples=1) # (B, 1)\n",
    "            # append sampled index to the running sequence\n",
    "            idx = torch.cat((idx, idx_next), dim=1) # (B, T+1)\n",
    "        return idx\n",
    "\n",
    "model = BigramLanguageModel()\n",
    "#model and m will refer to the same location in memory\n",
    "m = model.to(device)\n",
    "optimizer = torch.optim.AdamW(model.parameters(), lr = 1e-03)\n",
    "for iter in range(max_iters):\n",
    "    if iter % eval_interval == 0:\n",
    "        losses = estimate_loss()\n",
    "        print(f\"step {iter}: train loss: {losses['train']:.4f}, val loss: {losses['val']:.4f}\")\n",
    "    xb,yb = get_batch('train')\n",
    "\n",
    "    logits, loss = model(xb, yb)\n",
    "    optimizer.zero_grad()\n",
    "    loss.backward()\n",
    "    optimizer.step()\n",
    "\n",
    "context = torch.zeros((1,1), dtype=torch.long, device=device)\n",
    "# print(decode(m.generate(context, max_new_tokens = 500)[0].tolist()))\n",
    "\n",
    "\n",
    "\n",
    "\n",
    "\n"
   ],
   "outputs": [
    {
     "name": "stderr",
     "output_type": "stream",
     "text": [
      "C:\\Users\\Z004V3HN\\AppData\\Local\\Programs\\Python\\Python310\\lib\\site-packages\\tqdm\\auto.py:21: TqdmWarning: IProgress not found. Please update jupyter and ipywidgets. See https://ipywidgets.readthedocs.io/en/stable/user_install.html\n",
      "  from .autonotebook import tqdm as notebook_tqdm\n"
     ]
    },
    {
     "name": "stdout",
     "output_type": "stream",
     "text": [
      "step 0: train loss: 4.2000, val loss: 4.2047\n",
      "step 500: train loss: 2.6911, val loss: 2.7087\n",
      "step 1000: train loss: 2.5196, val loss: 2.5303\n",
      "step 1500: train loss: 2.4775, val loss: 2.4829\n",
      "step 2000: train loss: 2.4408, val loss: 2.4523\n",
      "step 2500: train loss: 2.4272, val loss: 2.4435\n",
      "step 3000: train loss: 2.4130, val loss: 2.4327\n",
      "step 3500: train loss: 2.3956, val loss: 2.4212\n",
      "step 4000: train loss: 2.4041, val loss: 2.3992\n",
      "step 4500: train loss: 2.3980, val loss: 2.4084\n"
     ]
    }
   ],
   "execution_count": 1
  },
  {
   "metadata": {
    "ExecuteTime": {
     "end_time": "2025-02-26T08:33:04.597609Z",
     "start_time": "2025-02-26T08:32:42.608333Z"
    }
   },
   "cell_type": "code",
   "source": [
    "print('hello')\n",
    "a = m.generate(context, max_new_tokens = 500)[0].tolist()\n",
    "decode(a)"
   ],
   "id": "47cff1c72d16f8fd",
   "outputs": [
    {
     "name": "stdout",
     "output_type": "stream",
     "text": [
      "hello\n"
     ]
    },
    {
     "ename": "KeyboardInterrupt",
     "evalue": "",
     "output_type": "error",
     "traceback": [
      "\u001B[1;31m---------------------------------------------------------------------------\u001B[0m",
      "\u001B[1;31mKeyboardInterrupt\u001B[0m                         Traceback (most recent call last)",
      "Cell \u001B[1;32mIn[9], line 2\u001B[0m\n\u001B[0;32m      1\u001B[0m \u001B[38;5;28mprint\u001B[39m(\u001B[38;5;124m'\u001B[39m\u001B[38;5;124mhello\u001B[39m\u001B[38;5;124m'\u001B[39m)\n\u001B[1;32m----> 2\u001B[0m a \u001B[38;5;241m=\u001B[39m \u001B[43mm\u001B[49m\u001B[38;5;241;43m.\u001B[39;49m\u001B[43mgenerate\u001B[49m\u001B[43m(\u001B[49m\u001B[43mcontext\u001B[49m\u001B[43m,\u001B[49m\u001B[43m \u001B[49m\u001B[43mmax_new_tokens\u001B[49m\u001B[43m \u001B[49m\u001B[38;5;241;43m=\u001B[39;49m\u001B[43m \u001B[49m\u001B[38;5;241;43m500\u001B[39;49m\u001B[43m)\u001B[49m[\u001B[38;5;241m0\u001B[39m]\u001B[38;5;241m.\u001B[39mtolist()\n\u001B[0;32m      3\u001B[0m decode(a)\n",
      "Cell \u001B[1;32mIn[1], line 153\u001B[0m, in \u001B[0;36mBigramLanguageModel.generate\u001B[1;34m(self, idx, max_new_tokens)\u001B[0m\n\u001B[0;32m    151\u001B[0m probs \u001B[38;5;241m=\u001B[39m F\u001B[38;5;241m.\u001B[39msoftmax(logits, dim\u001B[38;5;241m=\u001B[39m\u001B[38;5;241m-\u001B[39m\u001B[38;5;241m1\u001B[39m) \u001B[38;5;66;03m# (B, C)\u001B[39;00m\n\u001B[0;32m    152\u001B[0m \u001B[38;5;66;03m# sample from the distribution\u001B[39;00m\n\u001B[1;32m--> 153\u001B[0m idx_next \u001B[38;5;241m=\u001B[39m \u001B[43mtorch\u001B[49m\u001B[38;5;241;43m.\u001B[39;49m\u001B[43mmultinomial\u001B[49m\u001B[43m(\u001B[49m\u001B[43mprobs\u001B[49m\u001B[43m,\u001B[49m\u001B[43m \u001B[49m\u001B[43mnum_samples\u001B[49m\u001B[38;5;241;43m=\u001B[39;49m\u001B[38;5;241;43m1\u001B[39;49m\u001B[43m)\u001B[49m \u001B[38;5;66;03m# (B, 1)\u001B[39;00m\n\u001B[0;32m    154\u001B[0m \u001B[38;5;66;03m# append sampled index to the running sequence\u001B[39;00m\n\u001B[0;32m    155\u001B[0m idx \u001B[38;5;241m=\u001B[39m torch\u001B[38;5;241m.\u001B[39mcat((idx, idx_next), dim\u001B[38;5;241m=\u001B[39m\u001B[38;5;241m1\u001B[39m) \u001B[38;5;66;03m# (B, T+1)\u001B[39;00m\n",
      "\u001B[1;31mKeyboardInterrupt\u001B[0m: "
     ]
    }
   ],
   "execution_count": 9
  },
  {
   "metadata": {
    "ExecuteTime": {
     "end_time": "2025-03-08T17:33:20.559328Z",
     "start_time": "2025-03-08T17:33:20.543659Z"
    }
   },
   "cell_type": "code",
   "source": [
    "import torch\n",
    "\n",
    "a = torch.arange(60).reshape(4,3,5)\n",
    "print(a)\n",
    "a.transpose(2,1)"
   ],
   "id": "cab05aa5df61f1ba",
   "outputs": [
    {
     "name": "stdout",
     "output_type": "stream",
     "text": [
      "tensor([[[ 0,  1,  2,  3,  4],\n",
      "         [ 5,  6,  7,  8,  9],\n",
      "         [10, 11, 12, 13, 14]],\n",
      "\n",
      "        [[15, 16, 17, 18, 19],\n",
      "         [20, 21, 22, 23, 24],\n",
      "         [25, 26, 27, 28, 29]],\n",
      "\n",
      "        [[30, 31, 32, 33, 34],\n",
      "         [35, 36, 37, 38, 39],\n",
      "         [40, 41, 42, 43, 44]],\n",
      "\n",
      "        [[45, 46, 47, 48, 49],\n",
      "         [50, 51, 52, 53, 54],\n",
      "         [55, 56, 57, 58, 59]]])\n"
     ]
    },
    {
     "data": {
      "text/plain": [
       "tensor([[[ 0,  5, 10],\n",
       "         [ 1,  6, 11],\n",
       "         [ 2,  7, 12],\n",
       "         [ 3,  8, 13],\n",
       "         [ 4,  9, 14]],\n",
       "\n",
       "        [[15, 20, 25],\n",
       "         [16, 21, 26],\n",
       "         [17, 22, 27],\n",
       "         [18, 23, 28],\n",
       "         [19, 24, 29]],\n",
       "\n",
       "        [[30, 35, 40],\n",
       "         [31, 36, 41],\n",
       "         [32, 37, 42],\n",
       "         [33, 38, 43],\n",
       "         [34, 39, 44]],\n",
       "\n",
       "        [[45, 50, 55],\n",
       "         [46, 51, 56],\n",
       "         [47, 52, 57],\n",
       "         [48, 53, 58],\n",
       "         [49, 54, 59]]])"
      ]
     },
     "execution_count": 11,
     "metadata": {},
     "output_type": "execute_result"
    }
   ],
   "execution_count": 11
  },
  {
   "metadata": {
    "ExecuteTime": {
     "end_time": "2025-03-09T10:08:02.162942Z",
     "start_time": "2025-03-09T10:08:02.131056Z"
    }
   },
   "cell_type": "code",
   "source": [
    "import torch\n",
    "\n",
    "a = torch.arange(60).reshape(4,3,5)\n",
    "print(a)\n",
    "a.transpose(0,1)"
   ],
   "id": "2672d8715c09b8bc",
   "outputs": [
    {
     "name": "stdout",
     "output_type": "stream",
     "text": [
      "tensor([[[ 0,  1,  2,  3,  4],\n",
      "         [ 5,  6,  7,  8,  9],\n",
      "         [10, 11, 12, 13, 14]],\n",
      "\n",
      "        [[15, 16, 17, 18, 19],\n",
      "         [20, 21, 22, 23, 24],\n",
      "         [25, 26, 27, 28, 29]],\n",
      "\n",
      "        [[30, 31, 32, 33, 34],\n",
      "         [35, 36, 37, 38, 39],\n",
      "         [40, 41, 42, 43, 44]],\n",
      "\n",
      "        [[45, 46, 47, 48, 49],\n",
      "         [50, 51, 52, 53, 54],\n",
      "         [55, 56, 57, 58, 59]]])\n"
     ]
    },
    {
     "data": {
      "text/plain": [
       "tensor([[[ 0,  1,  2,  3,  4],\n",
       "         [15, 16, 17, 18, 19],\n",
       "         [30, 31, 32, 33, 34],\n",
       "         [45, 46, 47, 48, 49]],\n",
       "\n",
       "        [[ 5,  6,  7,  8,  9],\n",
       "         [20, 21, 22, 23, 24],\n",
       "         [35, 36, 37, 38, 39],\n",
       "         [50, 51, 52, 53, 54]],\n",
       "\n",
       "        [[10, 11, 12, 13, 14],\n",
       "         [25, 26, 27, 28, 29],\n",
       "         [40, 41, 42, 43, 44],\n",
       "         [55, 56, 57, 58, 59]]])"
      ]
     },
     "execution_count": 12,
     "metadata": {},
     "output_type": "execute_result"
    }
   ],
   "execution_count": 12
  },
  {
   "metadata": {
    "ExecuteTime": {
     "end_time": "2025-03-09T11:42:05.750873Z",
     "start_time": "2025-03-09T11:42:05.720676Z"
    }
   },
   "cell_type": "code",
   "source": [
    "import torch\n",
    "\n",
    "# Create a 2x3 tensor\n",
    "x = torch.tensor([[1, 2, 3], [4, 5, 6]])\n",
    "\n",
    "# Repeat the tensor 2 times along the first dimension\n",
    "x_repeated = x.repeat(2,1)\n",
    "\n",
    "print(\"Original tensor:\\n\", x)\n",
    "print(\"Repeated tensor:\\n\", x_repeated)\n",
    "print(\"SUmmed tensor dim 0:\\n\", x.sum(dim=1))"
   ],
   "id": "8131b5b5ea37ab39",
   "outputs": [
    {
     "name": "stdout",
     "output_type": "stream",
     "text": [
      "Original tensor:\n",
      " tensor([[1, 2, 3],\n",
      "        [4, 5, 6]])\n",
      "Repeated tensor:\n",
      " tensor([[1, 2, 3],\n",
      "        [4, 5, 6],\n",
      "        [1, 2, 3],\n",
      "        [4, 5, 6]])\n",
      "SUmmed tensor dim 0:\n",
      " tensor([ 6, 15])\n"
     ]
    }
   ],
   "execution_count": 38
  },
  {
   "metadata": {
    "ExecuteTime": {
     "end_time": "2025-03-09T13:07:23.591776Z",
     "start_time": "2025-03-09T13:07:23.560123Z"
    }
   },
   "cell_type": "code",
   "source": [
    "import torch\n",
    "\n",
    "# Create a 1D tensor\n",
    "x = torch.tensor([1, 2, 3])\n",
    "\n",
    "# Add a new dimension at position 0\n",
    "x_unsqueezed = x.unsqueeze(0)\n",
    "\n",
    "# Repeat the tensor 4 times along the new dimension\n",
    "x_repeated = x_unsqueezed.repeat(4, 0)\n",
    "\n",
    "print(\"Tensor with a new dimension:\\n\", x_unsqueezed)\n",
    "print(\"Repeated tensor along new dimension:\\n\", x_repeated)\n",
    "print(\"Shape of Repeated tensor along new dimension :\\n\", x_repeated.shape)\n",
    "\n"
   ],
   "id": "4e9cf7d4beaabb22",
   "outputs": [
    {
     "name": "stdout",
     "output_type": "stream",
     "text": [
      "Tensor with a new dimension:\n",
      " tensor([[1, 2, 3]])\n",
      "Repeated tensor along new dimension:\n",
      " tensor([], size=(4, 0), dtype=torch.int64)\n",
      "Shape of Repeated tensor along new dimension :\n",
      " torch.Size([4, 0])\n"
     ]
    },
    {
     "data": {
      "text/plain": [
       "Parameter containing:\n",
       "tensor([[ 0.0094, -0.0037, -0.0129,  ..., -0.0107,  0.0169, -0.0168],\n",
       "        [ 0.0158, -0.0063,  0.0200,  ..., -0.0105,  0.0250, -0.0156],\n",
       "        [ 0.0272,  0.0225, -0.0082,  ...,  0.0329,  0.0420, -0.0095],\n",
       "        ...,\n",
       "        [-0.0241, -0.0278, -0.0388,  ...,  0.0304,  0.0029, -0.0094],\n",
       "        [-0.0216,  0.0400, -0.0290,  ...,  0.0062, -0.0141,  0.0322],\n",
       "        [-0.0320, -0.0385,  0.0113,  ..., -0.0121,  0.0283, -0.0036]],\n",
       "       requires_grad=True)"
      ]
     },
     "execution_count": 40,
     "metadata": {},
     "output_type": "execute_result"
    }
   ],
   "execution_count": 40
  },
  {
   "metadata": {
    "ExecuteTime": {
     "end_time": "2025-03-09T13:16:22.442686Z",
     "start_time": "2025-03-09T13:16:22.427043Z"
    }
   },
   "cell_type": "code",
   "source": [
    "\n",
    "t = torch.nn.Linear(500, 10)\n",
    "print(t.weight.shape)\n",
    "x = torch.randn(500).unsqueeze(0)\n",
    "b = t(x)\n",
    "a = x @ t.weight.transpose(1, 0) + t.bias\n",
    "print(\"a shape\", a.shape)\n",
    "print(\"b shape\",  b.shape)\n",
    "torch.allclose(a, b)"
   ],
   "id": "5a3cf7904fbef3bd",
   "outputs": [
    {
     "name": "stdout",
     "output_type": "stream",
     "text": [
      "torch.Size([10, 500])\n",
      "a shape torch.Size([1, 10])\n",
      "b shape torch.Size([1, 10])\n"
     ]
    },
    {
     "data": {
      "text/plain": [
       "True"
      ]
     },
     "execution_count": 63,
     "metadata": {},
     "output_type": "execute_result"
    }
   ],
   "execution_count": 63
  },
  {
   "metadata": {},
   "cell_type": "code",
   "outputs": [],
   "execution_count": null,
   "source": "",
   "id": "9574d94f30f9a661"
  }
 ],
 "metadata": {
  "kernelspec": {
   "display_name": "Python 3",
   "language": "python",
   "name": "python3"
  },
  "language_info": {
   "codemirror_mode": {
    "name": "ipython",
    "version": 2
   },
   "file_extension": ".py",
   "mimetype": "text/x-python",
   "name": "python",
   "nbconvert_exporter": "python",
   "pygments_lexer": "ipython2",
   "version": "2.7.6"
  }
 },
 "nbformat": 4,
 "nbformat_minor": 5
}
