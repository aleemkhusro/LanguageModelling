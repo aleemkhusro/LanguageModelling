{
 "cells": [
  {
   "cell_type": "code",
   "execution_count": 32,
   "metadata": {},
   "outputs": [],
   "source": [
    "import torch\n"
   ]
  },
  {
   "cell_type": "code",
   "execution_count": 33,
   "metadata": {},
   "outputs": [
    {
     "data": {
      "text/plain": [
       "['emma', 'olivia', 'ava', 'isabella', 'sophia', 'charlotte', 'mia', 'amelia']"
      ]
     },
     "execution_count": 33,
     "metadata": {},
     "output_type": "execute_result"
    }
   ],
   "source": [
    "words = open('Data\\\\names.txt', 'r').read().splitlines()\n",
    "words[:8]"
   ]
  },
  {
   "cell_type": "code",
   "execution_count": 34,
   "metadata": {},
   "outputs": [
    {
     "name": "stdout",
     "output_type": "stream",
     "text": [
      "{1: 'a', 2: 'b', 3: 'c', 4: 'd', 5: 'e', 6: 'f', 7: 'g', 8: 'h', 9: 'i', 10: 'j', 11: 'k', 12: 'l', 13: 'm', 14: 'n', 15: 'o', 16: 'p', 17: 'q', 18: 'r', 19: 's', 20: 't', 21: 'u', 22: 'v', 23: 'w', 24: 'x', 25: 'y', 26: 'z', 0: '.'}\n"
     ]
    }
   ],
   "source": [
    "# build the vocabulary of characters and mappings to/from integers\n",
    "chars = sorted(list(set(''.join(words))))\n",
    "stoi = {s:i+1 for i,s in enumerate(chars)}\n",
    "stoi['.'] = 0\n",
    "itos = {i:s for s,i in stoi.items()}\n",
    "#makking changes\n",
    "print(itos)"
   ]
  },
  {
   "cell_type": "code",
   "execution_count": 35,
   "metadata": {},
   "outputs": [],
   "source": [
    "# build the dataset\n",
    "\n",
    "block_size = 3 # context length: how many characters do we take to predict the next one?\n",
    "\n",
    "def build_dataset(words):  \n",
    "  X, Y = [], []\n",
    "  for w in words:\n",
    "\n",
    "    #print(w)\n",
    "    context = [0] * block_size\n",
    "    for ch in w + '.':\n",
    "      ix = stoi[ch]\n",
    "      X.append(context)\n",
    "      Y.append(ix)\n",
    "      #print(''.join(itos[i] for i in context), '--->', itos[ix])\n",
    "      context = context[1:] + [ix] # crop and append\n",
    "\n",
    "  X = torch.tensor(X)\n",
    "  Y = torch.tensor(Y)\n",
    "  print(X.shape, Y.shape)\n",
    "  return X, Y\n",
    "\n"
   ]
  },
  {
   "cell_type": "code",
   "execution_count": 66,
   "metadata": {},
   "outputs": [
    {
     "name": "stdout",
     "output_type": "stream",
     "text": [
      "torch.Size([182625, 3]) torch.Size([182625])\n",
      "torch.Size([22655, 3]) torch.Size([22655])\n",
      "torch.Size([22866, 3]) torch.Size([22866])\n"
     ]
    }
   ],
   "source": [
    "import random\n",
    "random.seed(42)\n",
    "random.shuffle(words)\n",
    "n1 = int(0.8*len(words))\n",
    "n2 = int(0.9*len(words))\n",
    "\n",
    "Xtr, Ytr = build_dataset(words[:n1])\n",
    "Xdev, Ydev = build_dataset(words[n1:n2])\n",
    "Xtest, Ytest = build_dataset(words[n2:])"
   ]
  },
  {
   "cell_type": "code",
   "execution_count": 101,
   "metadata": {},
   "outputs": [],
   "source": [
    "g = torch.Generator().manual_seed(2147483647)\n",
    "C = torch.randn(27,10, generator=g)\n",
    "W1 = torch.randn(30,200, generator=g)\n",
    "b1=torch.randn(200, generator=g)\n",
    "W2 = torch.randn(200, 27, generator=g)\n",
    "b2 = torch.randn(27, generator=g)\n",
    "parameters = [W1, b1, W2, b2, C]\n",
    "\n",
    "for p in parameters:\n",
    "    p.requires_grad= True\n"
   ]
  },
  {
   "cell_type": "code",
   "execution_count": 111,
   "metadata": {},
   "outputs": [
    {
     "ename": "TypeError",
     "evalue": "'NoneType' object is not callable",
     "output_type": "error",
     "traceback": [
      "\u001b[1;31m---------------------------------------------------------------------------\u001b[0m",
      "\u001b[1;31mTypeError\u001b[0m                                 Traceback (most recent call last)",
      "\u001b[1;32me:\\NNZTH\\testing.ipynb Cell 7\u001b[0m in \u001b[0;36m<module>\u001b[1;34m\u001b[0m\n\u001b[0;32m      <a href='vscode-notebook-cell:/e%3A/NNZTH/testing.ipynb#X15sZmlsZQ%3D%3D?line=1'>2</a>\u001b[0m \u001b[39mfor\u001b[39;00m p \u001b[39min\u001b[39;00m parameters:\n\u001b[0;32m      <a href='vscode-notebook-cell:/e%3A/NNZTH/testing.ipynb#X15sZmlsZQ%3D%3D?line=2'>3</a>\u001b[0m     l\u001b[39m.\u001b[39mappend(p\u001b[39m.\u001b[39mnelement())\n\u001b[1;32m----> <a href='vscode-notebook-cell:/e%3A/NNZTH/testing.ipynb#X15sZmlsZQ%3D%3D?line=3'>4</a>\u001b[0m \u001b[39msum\u001b[39;49m(l)\n",
      "\u001b[1;31mTypeError\u001b[0m: 'NoneType' object is not callable"
     ]
    }
   ],
   "source": [
    "l = []\n",
    "for p in parameters:\n",
    "    l.append(p.nelement())\n",
    "sum(l)"
   ]
  },
  {
   "cell_type": "code",
   "execution_count": 95,
   "metadata": {},
   "outputs": [
    {
     "name": "stdout",
     "output_type": "stream",
     "text": [
      "2.193512439727783\n"
     ]
    }
   ],
   "source": [
    "\n",
    "stepi = []\n",
    "lossi= []\n",
    "def training_loop(parameters, X, Y):\n",
    "   learning_rate = 0.01\n",
    "    \n",
    "   for i in range(30000):\n",
    "        mini_batch = torch.randint(0, X.shape[0], (32,))\n",
    "        Xbatch = X[mini_batch]\n",
    "        Ybatch = Y[mini_batch]\n",
    "        \n",
    "        W1, b1, W2, b2, C = parameters\n",
    "\n",
    "        # Zero the gradients\n",
    "        for p in parameters:\n",
    "            if p.grad is not None:\n",
    "                p.grad.zero_()\n",
    "\n",
    "        # Forward pass\n",
    "        emb = C[Xbatch]\n",
    "        h = torch.tanh(emb.view(-1, 6) @ W1 + b1)\n",
    "        logits = h @ W2 + b2\n",
    "        loss = torch.nn.functional.cross_entropy(logits, Ybatch)\n",
    "\n",
    "        # Backward pass\n",
    "        loss.backward()\n",
    "\n",
    "        # Update parameters\n",
    "        for p in parameters:\n",
    "            p.data -= learning_rate * p.grad\n",
    "        stepi.append(i)\n",
    "        lossi.append(loss.item())\n",
    "\n",
    "        # Print loss every iteration\n",
    "   print(loss.item())\n",
    "\n",
    "# Assuming build_dataset and words are defined elsewhere\n",
    "# X, Y = build_dataset(words)\n",
    "training_loop(parameters, Xtr, Ytr)"
   ]
  },
  {
   "cell_type": "code",
   "execution_count": 90,
   "metadata": {},
   "outputs": [
    {
     "data": {
      "text/plain": [
       "[<matplotlib.lines.Line2D at 0x16624825960>]"
      ]
     },
     "execution_count": 90,
     "metadata": {},
     "output_type": "execute_result"
    },
    {
     "data": {
      "image/png": "[encoded data removed]",
      "text/plain": [
       "<Figure size 432x288 with 1 Axes>"
      ]
     },
     "metadata": {
      "needs_background": "light"
     },
     "output_type": "display_data"
    }
   ],
   "source": [
    "import matplotlib.pyplot as plt\n",
    "plt.plot(stepi, lossi)"
   ]
  },
  {
   "cell_type": "code",
   "execution_count": 96,
   "metadata": {},
   "outputs": [
    {
     "data": {
      "text/plain": [
       "tensor(2.2398, grad_fn=<NllLossBackward0>)"
      ]
     },
     "execution_count": 96,
     "metadata": {},
     "output_type": "execute_result"
    }
   ],
   "source": [
    "# Forward pass\n",
    "emb = C[Xtr]\n",
    "h = torch.tanh(emb.view(-1, 6) @ W1 + b1)\n",
    "logits = h @ W2 + b2\n",
    "loss = torch.nn.functional.cross_entropy(logits, Ytr)\n",
    "loss"
   ]
  },
  {
   "cell_type": "code",
   "execution_count": 97,
   "metadata": {},
   "outputs": [
    {
     "data": {
      "text/plain": [
       "tensor(2.2504, grad_fn=<NllLossBackward0>)"
      ]
     },
     "execution_count": 97,
     "metadata": {},
     "output_type": "execute_result"
    }
   ],
   "source": [
    "# Forward pass\n",
    "emb = C[Xdev]\n",
    "h = torch.tanh(emb.view(-1, 6) @ W1 + b1)\n",
    "logits = h @ W2 + b2\n",
    "loss = torch.nn.functional.cross_entropy(logits, Ydev)\n",
    "loss"
   ]
  },
  {
   "cell_type": "code",
   "execution_count": 110,
   "metadata": {},
   "outputs": [],
   "source": [
    "sum=None"
   ]
  },
  {
   "cell_type": "markdown",
   "metadata": {},
   "source": [
    "# Again Review"
   ]
  },
  {
   "cell_type": "code",
   "execution_count": 5,
   "metadata": {},
   "outputs": [
    {
     "name": "stdout",
     "output_type": "stream",
     "text": [
      "{1: 'a', 2: 'b', 3: 'c', 4: 'd', 5: 'e', 6: 'f', 7: 'g', 8: 'h', 9: 'i', 10: 'j', 11: 'k', 12: 'l', 13: 'm', 14: 'n', 15: 'o', 16: 'p', 17: 'q', 18: 'r', 19: 's', 20: 't', 21: 'u', 22: 'v', 23: 'w', 24: 'x', 25: 'y', 26: 'z', 0: '.'}\n"
     ]
    }
   ],
   "source": [
    "import torch\n",
    "words = open('Data\\\\names.txt', 'r').read().splitlines()\n",
    "# words[:8]\n",
    "# build the vocabulary of characters and mappings to/from integers\n",
    "chars = sorted(list(set(''.join(words))))\n",
    "stoi = {s:i+1 for i,s in enumerate(chars)}\n",
    "stoi['.'] = 0\n",
    "itos = {i:s for s,i in stoi.items()}\n",
    "print(itos)\n",
    "\n",
    "block_size = 3 # context length: how many characters do we take to predict the next one?\n",
    "X, Y = [], []\n",
    "for w in words[:3]:\n",
    "  \n",
    "  #print(w)\n",
    "  context = [0] * block_size\n",
    "  for ch in w + '.':\n",
    "    ix = stoi[ch]\n",
    "    X.append(context)\n",
    "    Y.append(ix)\n",
    "    #print(''.join(itos[i] for i in context), '--->', itos[ix])\n",
    "    context = context[1:] + [ix] # crop and append\n",
    "  \n",
    "X = torch.tensor(X)\n",
    "Y = torch.tensor(Y)"
   ]
  },
  {
   "cell_type": "code",
   "execution_count": 25,
   "metadata": {},
   "outputs": [
    {
     "name": "stdout",
     "output_type": "stream",
     "text": [
      "tensor([[4, 3],\n",
      "        [1, 2]])\n",
      "tensor([[[-0.7521,  1.6487],\n",
      "         [-0.0431, -1.6047]],\n",
      "\n",
      "        [[ 0.9007, -2.1055],\n",
      "         [ 0.6784, -1.2345]]])\n",
      "tensor([[ 1.9269,  1.4873],\n",
      "        [ 0.9007, -2.1055],\n",
      "        [ 0.6784, -1.2345],\n",
      "        [-0.0431, -1.6047],\n",
      "        [-0.7521,  1.6487],\n",
      "        [-0.3925, -1.4036],\n",
      "        [-0.7279, -0.5594],\n",
      "        [-0.7688,  0.7624],\n",
      "        [ 1.6423, -0.1596],\n",
      "        [-0.4974,  0.4396],\n",
      "        [-0.7581,  1.0783],\n",
      "        [ 0.8008,  1.6806],\n",
      "        [ 1.2791,  1.2964],\n",
      "        [ 0.6105,  1.3347],\n",
      "        [-0.2316,  0.0418],\n",
      "        [-0.2516,  0.8599],\n",
      "        [-1.3847, -0.8712],\n",
      "        [-0.2234,  1.7174],\n",
      "        [ 0.3189, -0.4245],\n",
      "        [-0.8140, -0.7360],\n",
      "        [-0.8371, -0.9224],\n",
      "        [ 1.8113,  0.1606],\n",
      "        [ 0.3672,  0.1754],\n",
      "        [-1.1845,  1.3835],\n",
      "        [-1.2024,  0.7078],\n",
      "        [-1.0759,  0.5357],\n",
      "        [ 1.1754,  0.5612]])\n"
     ]
    }
   ],
   "source": [
    "torch.manual_seed(42)\n",
    "C = torch.randn((27, 2))\n",
    "x = torch.tensor([[4,3],[1,2]])\n",
    "print(x)\n",
    "print( C[x])\n",
    "print(C)"
   ]
  },
  {
   "cell_type": "code",
   "execution_count": 33,
   "metadata": {},
   "outputs": [
    {
     "data": {
      "text/plain": [
       "torch.Size([16, 3, 2])"
      ]
     },
     "execution_count": 33,
     "metadata": {},
     "output_type": "execute_result"
    }
   ],
   "source": [
    "C[X].shape"
   ]
  },
  {
   "cell_type": "code",
   "execution_count": 49,
   "metadata": {},
   "outputs": [
    {
     "data": {
      "text/plain": [
       "tensor([[[ 1.9269,  1.4873],\n",
       "         [ 1.9269,  1.4873],\n",
       "         [ 1.9269,  1.4873]],\n",
       "\n",
       "        [[ 0.9007, -2.1055],\n",
       "         [ 0.3672,  0.1754],\n",
       "         [ 0.9007, -2.1055]]])"
      ]
     },
     "execution_count": 49,
     "metadata": {},
     "output_type": "execute_result"
    }
   ],
   "source": [
    "emb = C[X]\n",
    "emb[[[0,15]]]"
   ]
  },
  {
   "cell_type": "code",
   "execution_count": 60,
   "metadata": {},
   "outputs": [],
   "source": [
    "C = torch.tensor([\n",
    "    [1, 2],\n",
    "    [3, 4],\n",
    "    [5, 6],\n",
    "    [7, 8],\n",
    "    [9, 10],\n",
    "    [11, 12],\n",
    "    [13, 14],\n",
    "    [15, 16],\n",
    "    [17, 18],\n",
    "    [19, 20],\n",
    "    [21, 22],\n",
    "    [23, 24],\n",
    "    [25, 26],\n",
    "    [27, 28],\n",
    "    [29, 30],\n",
    "    [31, 32],\n",
    "    [33, 34],\n",
    "    [35, 36],\n",
    "    [37, 38],\n",
    "    [39, 40],\n",
    "    [41, 42],\n",
    "    [43, 44],\n",
    "    [45, 46],\n",
    "    [47, 48],\n",
    "    [49, 50],\n",
    "    [51, 52],\n",
    "    [53, 54]\n",
    "])"
   ]
  },
  {
   "cell_type": "code",
   "execution_count": 70,
   "metadata": {},
   "outputs": [
    {
     "data": {
      "text/plain": [
       "tensor([[[ 1,  2],\n",
       "         [ 1,  2],\n",
       "         [ 1,  2]],\n",
       "\n",
       "        [[ 1,  2],\n",
       "         [ 1,  2],\n",
       "         [11, 12]],\n",
       "\n",
       "        [[ 1,  2],\n",
       "         [11, 12],\n",
       "         [27, 28]],\n",
       "\n",
       "        [[11, 12],\n",
       "         [27, 28],\n",
       "         [27, 28]],\n",
       "\n",
       "        [[27, 28],\n",
       "         [27, 28],\n",
       "         [ 3,  4]],\n",
       "\n",
       "        [[ 1,  2],\n",
       "         [ 1,  2],\n",
       "         [ 1,  2]],\n",
       "\n",
       "        [[ 1,  2],\n",
       "         [ 1,  2],\n",
       "         [31, 32]],\n",
       "\n",
       "        [[ 1,  2],\n",
       "         [31, 32],\n",
       "         [25, 26]],\n",
       "\n",
       "        [[31, 32],\n",
       "         [25, 26],\n",
       "         [19, 20]],\n",
       "\n",
       "        [[25, 26],\n",
       "         [19, 20],\n",
       "         [45, 46]],\n",
       "\n",
       "        [[19, 20],\n",
       "         [45, 46],\n",
       "         [19, 20]],\n",
       "\n",
       "        [[45, 46],\n",
       "         [19, 20],\n",
       "         [ 3,  4]],\n",
       "\n",
       "        [[ 1,  2],\n",
       "         [ 1,  2],\n",
       "         [ 1,  2]],\n",
       "\n",
       "        [[ 1,  2],\n",
       "         [ 1,  2],\n",
       "         [ 3,  4]],\n",
       "\n",
       "        [[ 1,  2],\n",
       "         [ 3,  4],\n",
       "         [45, 46]],\n",
       "\n",
       "        [[ 3,  4],\n",
       "         [45, 46],\n",
       "         [ 3,  4]]])"
      ]
     },
     "execution_count": 70,
     "metadata": {},
     "output_type": "execute_result"
    }
   ],
   "source": [
    "emb"
   ]
  },
  {
   "cell_type": "code",
   "execution_count": 74,
   "metadata": {},
   "outputs": [
    {
     "data": {
      "text/plain": [
       "tensor([[ 1,  2],\n",
       "        [ 3,  4],\n",
       "        [45, 46]])"
      ]
     },
     "execution_count": 74,
     "metadata": {},
     "output_type": "execute_result"
    }
   ],
   "source": [
    "emb =C[X]\n",
    "emb[[0,14,15],[1]]"
   ]
  }
 ],
 "metadata": {
  "kernelspec": {
   "display_name": "Python 3",
   "language": "python",
   "name": "python3"
  },
  "language_info": {
   "codemirror_mode": {
    "name": "ipython",
    "version": 3
   },
   "file_extension": ".py",
   "mimetype": "text/x-python",
   "name": "python",
   "nbconvert_exporter": "python",
   "pygments_lexer": "ipython3",
   "version": "3.10.11"
  },
  "orig_nbformat": 4
 },
 "nbformat": 4,
 "nbformat_minor": 2
}
